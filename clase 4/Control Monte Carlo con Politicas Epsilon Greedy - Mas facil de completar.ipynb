{
 "cells": [
  {
   "cell_type": "markdown",
   "metadata": {},
   "source": [
    "## El objetivo de este ejercicio es calcular la función de política óptima epsilon greedy (\"epsilon-ávida\")\n",
    "<img src=\"Epsilon_Greedy_MC.PNG\">"
   ]
  },
  {
   "cell_type": "code",
   "execution_count": null,
   "metadata": {
    "collapsed": true
   },
   "outputs": [],
   "source": [
    "%matplotlib inline\n",
    "\n",
    "import gym\n",
    "import matplotlib\n",
    "import numpy as np\n",
    "import sys\n",
    "\n",
    "from collections import defaultdict\n",
    "if \"../\" not in sys.path:\n",
    "  sys.path.append(\"../\") \n",
    "from lib.envs.blackjack import BlackjackEnv\n",
    "from lib import plotting\n",
    "\n",
    "matplotlib.style.use('ggplot')"
   ]
  },
  {
   "cell_type": "code",
   "execution_count": null,
   "metadata": {
    "collapsed": true
   },
   "outputs": [],
   "source": [
    "# vamos a utilizar el ambiente de BlackJack como ejemplo\n",
    "env = BlackjackEnv()"
   ]
  },
  {
   "cell_type": "code",
   "execution_count": null,
   "metadata": {
    "collapsed": true
   },
   "outputs": [],
   "source": [
    "def make_epsilon_greedy_policy(Q, epsilon, nA):\n",
    "    \"\"\"\n",
    "    Crea una política epsilon-greedy basado en una q-función (función de valor estado-acción) y un epsilon dados.\n",
    "    \n",
    "    Argumentos:\n",
    "        Q: un diccionario que mapea cada estado/observación s a un array de numpy Q[s] = array([v_0, v_1, ... , v_nA]) de longitud nA\n",
    "        que para un índice a del array contiene el valor v_a de tomar la acción a en el estado s. \n",
    "        (en nuestra notación de la clase q(s,a))\n",
    "         \n",
    "        epsilon: probabilidad de seleccionar una acción aleatoria (obliga a explorar), valor entre 0 y 1.\n",
    "        \n",
    "        nA: número de acciones en el entorno\n",
    "    \n",
    "    Retorna:\n",
    "        Una función que dada una observación como argumento, retorna una política (un array de numpy de longitud nA)\n",
    "        con probabilidades para cada acción. La política es tal que toma la mejor acción según Q con probabilidad (1-epsilon)\n",
    "        y toma una acción al azar con probabilidad epsilon\n",
    "        \n",
    "    \"\"\"\n",
    "    def policy_fn(estado):\n",
    "        # devolver un array de longitud nA con valores epsilon/nA para todas las acciones\n",
    "        # excepto para la mejor acción según Q dada esta observación (estado), \n",
    "        # que debe tener probabilidad (1 - epsilon + epsilon/nA)\n",
    "      \n",
    "        p = np.ones(nA)*epsilon/nA\n",
    "        mejor_accion = np.argmax(Q[estado])\n",
    "        p[mejor_accion] += 1.0 - epsilon\n",
    "        return p\n",
    "        \n",
    "        \n",
    "    return policy_fn"
   ]
  },
  {
   "cell_type": "code",
   "execution_count": null,
   "metadata": {
    "collapsed": true
   },
   "outputs": [],
   "source": [
    "def mc_control_epsilon_greedy(env, num_episodes, discount_factor=1.0, epsilon=0.1):\n",
    "    \"\"\"\n",
    "    Control Monte Carlo utiliando políticas epsilon-greedy\n",
    "    Encuentra la política epsilon-greedy óptima.\n",
    "    \n",
    "    Argumentos:\n",
    "        env: ambiente de OpenAI gym.\n",
    "        num_episodes: número de episodios a samplear.\n",
    "        discount_factor: factor de descuento gama.\n",
    "        epsilon: probabilidad de samplear una acción aleatoria. Valor entre 0 y 1.\n",
    "    \n",
    "    Retorna:\n",
    "        Una tupla (Q, policy)\n",
    "        Q es un diccionario que mapea cada estado/observación s a un array de numpy Q[s] = array([v_0, v_1, ... , v_nA]) de longitud nA\n",
    "        que para un índice a del array contiene el valor v_a de tomar la acción a en el estado s. \n",
    "        (en nuestra notación de la clase q(s,a))\n",
    "        policy es una función que toma una observación/estado como argumento y retorna un array numpy \n",
    "        de longitud nA con las probabilidades de cada acción\n",
    "        \n",
    "    \"\"\"\n",
    "    \n",
    "    # mantienen la suma y la cantidad de retornos para cada estado\n",
    "    # para calcular un promedio. Podríamos utilizar un array para guardar todos los retornos\n",
    "    # también, pero sería más infeciente en términos de espacio\n",
    "    returns_sum = defaultdict(float)\n",
    "    returns_count = defaultdict(float)\n",
    "    \n",
    "    # The final action-value function.\n",
    "    # A nested dictionary that maps state -> (action -> action-value).\n",
    "    # la función de valor estado-acción\n",
    "    # es un diccionario cuyas llaves son estados\n",
    "    # para cada estado el diccionario tiene un array de nA (cantidad de acciones) elementos\n",
    "    # y cada elemento de este array dice Q(estado,accion), la función de valor estado-acción evaluada en el par\n",
    "    # (estado, accion)\n",
    "    Q = defaultdict(lambda: np.zeros(env.action_space.n))\n",
    "    \n",
    "    # la política que estamos siguiendo en este momento\n",
    "    # la política que seguimos en el paso actual es la política epsilon-greedy\n",
    "    # respecto a la estimación de Q que tenemos en este momento\n",
    "    policy = make_epsilon_greedy_policy(Q, epsilon, env.action_space.n)\n",
    "    \n",
    "    for i in range(num_episodes):\n",
    "        # hacer print del número de episodio si es múltiplo de 1000 para observar el avance\n",
    "        if i % 1000 == 0:\n",
    "            print(\"\\rEpisodio {}/{}.\".format(i, num_episodes), end=\"\")\n",
    "            sys.stdout.flush()\n",
    "\n",
    "        episodio = []\n",
    "        estado = env.reset()\n",
    "        # generar un episodio de máximo 100 pasos (o parar cuando acabe el episodio)\n",
    "        # un episodio es una lista de tuplas (estado, accion, recompensa)\n",
    "        for t in range(100): # alternativamente: while True\n",
    "            probabilidades = policy(estado)\n",
    "            accion = np.random.choice(np.arange(len(probabilidades)), p=probabilidades)\n",
    "            proximo_estado, recompensa, fin, _ = env.step(accion)\n",
    "            episodio.append((estado, accion, recompensa))\n",
    "            if fin:\n",
    "                break\n",
    "            estado = proximo_estado\n",
    "\n",
    "        # con el episodio generado: \n",
    "        # obtener la lista de pares únicos (estado, acción) que ocurrieron en este episodio\n",
    "        # TIP 1: podemos usar set() para obtener elementos únicos\n",
    "        pares_en_episodio = [(tuple(x[0]), x[1]) for x in episodio]\n",
    "        pares_unicos_en_episodio = set(pares_en_episodio)\n",
    "        for estado, accion in pares_unicos_en_episodio: # para cada par (estado, accion)\n",
    "            par_estado_accion = (estado, accion)\n",
    "            # encontrar la primera ocurrencia del par (estado, accion en el episodio)\n",
    "            primer_indice = pares_en_episodio.index(par_estado_accion)\n",
    "            # sumar todas las recompensas descontadas a partir de ese momento:\n",
    "            G = 0 \n",
    "            for j in range(primer_indice, len(episodio)):\n",
    "                tupla = episodio[j]\n",
    "                G += tupla[2]*discount_factor**(j-primer_indice)\n",
    "            # calcular el promedio del retorno dado todos los ejemplos que tenemos hasta ahora\n",
    "            # para este par (estado, accion)\n",
    "            # poemos usar el promedio o \n",
    "            returns_sum[par_estado_accion] += G\n",
    "            returns_count[par_estado_accion] += 1.0\n",
    "\n",
    "            ####### COMPLETAR la próxima línea con: (hay dos opciones) #############\n",
    "            # 1 - el promedio usando returns_sum y returns_count para este par (estado, accion)\n",
    "            # 2 - usando la fórmula incremental para el promedio\n",
    "            Q[estado][accion] = \n",
    "        \n",
    "        # NOTAR: el diccionario de Q se actualiza en cada episodio, y por lo tanto también se \n",
    "        # actualiza la función policy, que utiliza ese diccionario, mirar la última celda de este\n",
    "        # notebook para entender por qué\n",
    "    \n",
    "    return Q, policy"
   ]
  },
  {
   "cell_type": "code",
   "execution_count": null,
   "metadata": {
    "collapsed": true
   },
   "outputs": [],
   "source": [
    "Q, policy = mc_control_epsilon_greedy(env, num_episodes=500000, epsilon=0.1)"
   ]
  },
  {
   "cell_type": "code",
   "execution_count": null,
   "metadata": {
    "collapsed": true
   },
   "outputs": [],
   "source": [
    "# Para plotear: crear una función valor dada una función valor de estado-acción\n",
    "# eligiendo la mejor acción en cada estado\n",
    "V = defaultdict(float)\n",
    "for state, actions in Q.items():\n",
    "    action_value = np.max(actions)\n",
    "    V[state] = action_value\n",
    "plotting.plot_value_function(V, title=\"Función de Valor ótima\")"
   ]
  },
  {
   "cell_type": "code",
   "execution_count": 5,
   "metadata": {},
   "outputs": [
    {
     "name": "stdout",
     "output_type": "stream",
     "text": [
      "[1. 1. 1. 1. 1. 1. 1. 1. 1. 1.]\n",
      "[2. 2. 2. 2. 2. 2. 2. 2. 2. 2.]\n"
     ]
    }
   ],
   "source": [
    "# ejemplo de cómo la política se actualiza cuando Q se actualiza\n",
    "import numpy as np\n",
    "from collections import defaultdict\n",
    "tt = defaultdict(lambda: np.zeros(10))\n",
    "def func_get_back_tt(tt):\n",
    "    def tt_back(a):\n",
    "        return tt[a]\n",
    "    return tt_back\n",
    "tt_back = func_get_back_tt(tt)\n",
    "tt[0] += np.ones(10)\n",
    "print(tt_back(0))\n",
    "tt[0] += np.ones(10)\n",
    "print(tt_back(0))\n"
   ]
  },
  {
   "cell_type": "code",
   "execution_count": null,
   "metadata": {},
   "outputs": [],
   "source": []
  }
 ],
 "metadata": {
  "kernelspec": {
   "display_name": "Python 3",
   "language": "python",
   "name": "python3"
  },
  "language_info": {
   "codemirror_mode": {
    "name": "ipython",
    "version": 3
   },
   "file_extension": ".py",
   "mimetype": "text/x-python",
   "name": "python",
   "nbconvert_exporter": "python",
   "pygments_lexer": "ipython3",
   "version": "3.6.7"
  }
 },
 "nbformat": 4,
 "nbformat_minor": 1
}
