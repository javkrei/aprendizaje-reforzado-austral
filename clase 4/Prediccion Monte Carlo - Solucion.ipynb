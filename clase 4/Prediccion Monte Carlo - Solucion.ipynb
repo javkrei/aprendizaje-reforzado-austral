{
 "cells": [
  {
   "cell_type": "markdown",
   "metadata": {},
   "source": [
    "## El objetivo de este ejercicio es calcular la función de valor de una política dada usando sampleo Monte Carlo.\n",
    "<img src=\"Prediccion_MC.PNG\">"
   ]
  },
  {
   "cell_type": "code",
   "execution_count": null,
   "metadata": {
    "collapsed": true
   },
   "outputs": [],
   "source": [
    "%matplotlib inline\n",
    "\n",
    "import gym\n",
    "import matplotlib\n",
    "import numpy as np\n",
    "import sys\n",
    "\n",
    "from collections import defaultdict\n",
    "\n",
    "if \"../\" not in sys.path:\n",
    "  sys.path.append(\"../\") \n",
    "from lib.envs.blackjack import BlackjackEnv\n",
    "from lib import plotting\n",
    "\n",
    "matplotlib.style.use('ggplot')"
   ]
  },
  {
   "cell_type": "code",
   "execution_count": null,
   "metadata": {
    "collapsed": true
   },
   "outputs": [],
   "source": [
    "env = BlackjackEnv()"
   ]
  },
  {
   "cell_type": "code",
   "execution_count": null,
   "metadata": {
    "collapsed": true
   },
   "outputs": [],
   "source": [
    "def mc_prediction(policy, env, num_episodes, discount_factor=1.0):\n",
    "    \"\"\"\n",
    "    Algoritmo de predicción Monte Carlo \"primera-visita\". Calcula la función de valor para una \n",
    "    politica dada usando sampleo.\n",
    "    \n",
    "    Argumentos:\n",
    "        policy: Política, función que mapea observaciones a probabilidades de cada acción.\n",
    "        env: Ambiente de OpenAI gyn.\n",
    "        num_episodes: Número de episodios a samplear.\n",
    "        discount_factor: factor de descuento gama.\n",
    "    \n",
    "    Retorna:\n",
    "        Un diccionario que mapea estado -> valor.\n",
    "        El estado es una tupla y el valor es un float.\n",
    "    \"\"\"\n",
    "\n",
    "    # Mantiene una suma y conteo de los retornos de cada estado\n",
    "    # para calcular un promedio. Podría usarse un array para guardar todos los retornos\n",
    "    # pero sería ineficiente en memoria.\n",
    "    # CUIDADO: las llaves de un diccionario deben ser inmutables, por ejemplo tuples\n",
    "    returns_sum = defaultdict(float)\n",
    "    returns_count = defaultdict(float)\n",
    "    \n",
    "    # El valor final de la función de valor\n",
    "    V = defaultdict(float)\n",
    "    \n",
    "    # Implementar!\n",
    "    # CONSEJOS:\n",
    "    # loop num_episodes veces\n",
    "    for i in range(num_episodes):\n",
    "        episodio = []\n",
    "        estados_en_episodio = []\n",
    "        estado = env.reset()\n",
    "        # generar un episodio de máximo 100 pasos (o parar cuando acabe el episodio)\n",
    "        # un episodio es una lista de tuplas (estado, accion, recompensa)\n",
    "        while True:\n",
    "            accion = policy(estado)\n",
    "            proximo_estado, recompensa, fin, _ = env.step(accion)\n",
    "            estados_en_episodio.append(estado)\n",
    "            episodio.append((estado, accion, recompensa))\n",
    "            if fin:\n",
    "                break\n",
    "            estado = proximo_estado\n",
    "\n",
    "        # con el episodio generado: \n",
    "        # iterar sobre los estados visitados en este episodio, \n",
    "        # TIP 1: podemos usar set() para obtener estados unicos\n",
    "        estados_unicos = set(estados_en_episodio)\n",
    "        for estado in estados_unicos:\n",
    "            # por cada estado encontrar su primera aparición en el episodio (estamos implementando \"primera-visita\")\n",
    "            primer_indice = estados_en_episodio.index(estado)\n",
    "            # obtener el retorno a partir de ese momento\n",
    "            G = 0 \n",
    "            for j in range(primer_indice, len(episodio)):\n",
    "                tupla = episodio[j]\n",
    "                G += tupla[2]*discount_factor**(j-primer_indice)\n",
    "            # acumular los retornos si queremos usar la formula (1) para el promedio\n",
    "            #returns_sum[estado] += G\n",
    "            returns_count[estado] += 1 \n",
    "            #V[estado] = returns_sum[estado] / returns_count[estado] # formula (1) para el promedio\n",
    "            V[estado] = V[estado] + 1/returns_count[estado] * (G - V[estado]) # formula alternativa para el promedio\n",
    "    return V    "
   ]
  },
  {
   "cell_type": "code",
   "execution_count": null,
   "metadata": {
    "collapsed": true
   },
   "outputs": [],
   "source": [
    "def sample_policy(observation):\n",
    "    \"\"\"\n",
    "    Una política que se planta si el jugador tiene un puntaje > 20 y pide otra carta caso contrario.\n",
    "    \"\"\"\n",
    "    score, dealer_score, usable_ace = observation\n",
    "    return 0 if score >= 20 else 1"
   ]
  },
  {
   "cell_type": "code",
   "execution_count": null,
   "metadata": {
    "collapsed": true,
    "scrolled": false
   },
   "outputs": [],
   "source": [
    "V_10k = mc_prediction(sample_policy, env, num_episodes=10000)\n",
    "plotting.plot_value_function(V_10k, title=\"10,000 Episodios\")\n",
    "\n",
    "V_500k = mc_prediction(sample_policy, env, num_episodes=500000)\n",
    "plotting.plot_value_function(V_500k, title=\"500,000 Episodios\")"
   ]
  },
  {
   "cell_type": "code",
   "execution_count": null,
   "metadata": {
    "collapsed": true
   },
   "outputs": [],
   "source": []
  }
 ],
 "metadata": {
  "kernelspec": {
   "display_name": "Python 3",
   "language": "python",
   "name": "python3"
  },
  "language_info": {
   "codemirror_mode": {
    "name": "ipython",
    "version": 3
   },
   "file_extension": ".py",
   "mimetype": "text/x-python",
   "name": "python",
   "nbconvert_exporter": "python",
   "pygments_lexer": "ipython3",
   "version": "3.6.7"
  }
 },
 "nbformat": 4,
 "nbformat_minor": 1
}
