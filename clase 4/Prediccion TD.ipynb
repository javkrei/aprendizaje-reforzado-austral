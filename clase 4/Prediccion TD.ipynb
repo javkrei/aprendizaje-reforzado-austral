{
 "cells": [
  {
   "cell_type": "markdown",
   "metadata": {},
   "source": [
    "## El objetivo de este ejercicio es calcular la función de valor de una política dada usando Diferencias Temporales.\n",
    "<img src=\"Prediccion_TD.PNG\">"
   ]
  },
  {
   "cell_type": "code",
   "execution_count": null,
   "metadata": {},
   "outputs": [],
   "source": [
    "%matplotlib inline\n",
    "\n",
    "import gym\n",
    "import matplotlib\n",
    "import numpy as np\n",
    "import sys\n",
    "\n",
    "from collections import defaultdict\n",
    "import itertools\n",
    "\n",
    "if \"../\" not in sys.path:\n",
    "  sys.path.append(\"../\") \n",
    "from lib.envs.gridworld import GridworldEnv\n",
    "from lib import plotting\n",
    "\n",
    "matplotlib.style.use('ggplot')"
   ]
  },
  {
   "cell_type": "code",
   "execution_count": null,
   "metadata": {},
   "outputs": [],
   "source": [
    "env = GridworldEnv()"
   ]
  },
  {
   "cell_type": "code",
   "execution_count": null,
   "metadata": {},
   "outputs": [],
   "source": [
    "def td_prediction(policy, env, num_episodes, discount_factor=1.0, alpha=0.01):\n",
    "    \"\"\"\n",
    "    Algoritmo de predicción por diferencias temporales.\n",
    "    Calcula la función de valor dada una política utilizando diferencias temporales para los updates.\n",
    "    \n",
    "    Argumentos:\n",
    "        policy: Una función que dada una observación toma una acción\n",
    "        env: ambiente de OpenAI gym.\n",
    "        num_episodes: número de episodios para samplear en total.\n",
    "        discount_factor: factor de descuento gama.\n",
    "    \n",
    "    Returns:\n",
    "    Retorna:\n",
    "        Un diccionario que mapea de estado -> valor\n",
    "    \"\"\"\n",
    "    # la función de valor final\n",
    "    V = defaultdict(float)\n",
    "    \n",
    "    # por cada episodio desde 1 hasta el número de episodios\n",
    "        # hacer print del número de episodio si es múltiplo de 1000 para observar el avance\n",
    "        \n",
    "        # resetear el ambiente, obtener el primer estado\n",
    "        # mientras no lleguemos estado terminal\n",
    "            # obtener la próxima acción según la política\n",
    "            # tomar la acción en el ambiente\n",
    "            # actualizar V según la fórmula de diferencias temporales\n",
    "            # pasar al próximo estado\n",
    "            \n",
    "    # devolver la función de valor\n",
    "    return V    "
   ]
  },
  {
   "cell_type": "code",
   "execution_count": null,
   "metadata": {},
   "outputs": [],
   "source": [
    "def sample_policy(observation):\n",
    "    \"\"\"\n",
    "    Política aleatoria\n",
    "    \"\"\"\n",
    "    return np.random.choice(4)"
   ]
  },
  {
   "cell_type": "code",
   "execution_count": null,
   "metadata": {},
   "outputs": [],
   "source": [
    "V = td_prediction(sample_policy, env, num_episodes=500000)"
   ]
  },
  {
   "cell_type": "code",
   "execution_count": null,
   "metadata": {},
   "outputs": [],
   "source": [
    "print(V)"
   ]
  },
  {
   "cell_type": "code",
   "execution_count": null,
   "metadata": {},
   "outputs": [],
   "source": [
    "# deberia ser:\n",
    "np.array([0, -14, -20, -22, -14, -18, -20, -20, -20, -20, -18, -14, -22, -20, -14, 0])"
   ]
  }
 ],
 "metadata": {
  "kernelspec": {
   "display_name": "Python 3",
   "language": "python",
   "name": "python3"
  },
  "language_info": {
   "codemirror_mode": {
    "name": "ipython",
    "version": 3
   },
   "file_extension": ".py",
   "mimetype": "text/x-python",
   "name": "python",
   "nbconvert_exporter": "python",
   "pygments_lexer": "ipython3",
   "version": "3.5.2"
  }
 },
 "nbformat": 4,
 "nbformat_minor": 2
}
