{
 "cells": [
  {
   "cell_type": "code",
   "execution_count": 1,
   "metadata": {},
   "outputs": [],
   "source": [
    "import numpy as np\n",
    "from gym.envs.toy_text import discrete\n",
    "\n",
    "states = [\"high\", \"low\"]\n",
    "actions = [\"wait\", \"search\", \"recharge\"]\n",
    "\n",
    "P = {}\n",
    "\n",
    "P[0] = {}\n",
    "P[1] = {}\n",
    "\n",
    "alpha = 0.9\n",
    "beta = 0.9\n",
    "r_wait = 2.0\n",
    "r_search = 4.0\n",
    "\n",
    "# definimos un ambiente discreto con las transiciones según el gráfico\n",
    "\n",
    "P[0][0] = [(1.0, 0, r_wait, False)]\n",
    "P[0][1] = [(alpha, 0, r_search, False),\n",
    "           (1-alpha, 1, r_search, False)]\n",
    "\n",
    "P[1][0] = [(1.0, 0, r_wait, False)]\n",
    "P[1][1] = [(beta, 1, r_search, False), \n",
    "           (1-beta, 0, -3.0, False)]\n",
    "P[1][2] = [(1.0, 0, 0.0, False)]\n",
    "\n",
    "env = discrete.DiscreteEnv(2, 3, P, [0.0, 1.0])\n"
   ]
  },
  {
   "cell_type": "code",
   "execution_count": 2,
   "metadata": {},
   "outputs": [
    {
     "name": "stdout",
     "output_type": "stream",
     "text": [
      "[(0, 1.0, False, {'prob': 1.0}), (0, 1.0, False, {'prob': 1.0}), (0, 1.0, False, {'prob': 1.0}), (0, 2.0, False, {'prob': 0.9}), (0, 2.0, False, {'prob': 0.9}), (0, 1.0, False, {'prob': 1.0}), (0, 1.0, False, {'prob': 1.0}), (0, 1.0, False, {'prob': 1.0}), (0, 1.0, False, {'prob': 1.0}), (0, 2.0, False, {'prob': 0.9})]\n"
     ]
    }
   ],
   "source": [
    "import random\n",
    "\n",
    "env.reset()\n",
    "\n",
    "episode = []\n",
    "current_state = 1\n",
    "\n",
    "for _ in range(10):\n",
    "    # si estamos en el primer estado no podemos elegir la acción 2\n",
    "    if current_state == 0:\n",
    "        action = random.randrange(2)\n",
    "    if current_state == 1:\n",
    "        action = random.randrange(3)\n",
    "    result = env.step(action)\n",
    "    episode.append(result)\n",
    "    current_state = result[0]\n",
    "\n",
    "print(episode)\n"
   ]
  },
  {
   "cell_type": "code",
   "execution_count": null,
   "metadata": {},
   "outputs": [],
   "source": []
  }
 ],
 "metadata": {
  "kernelspec": {
   "display_name": "Python 3",
   "language": "python",
   "name": "python3"
  },
  "language_info": {
   "codemirror_mode": {
    "name": "ipython",
    "version": 3
   },
   "file_extension": ".py",
   "mimetype": "text/x-python",
   "name": "python",
   "nbconvert_exporter": "python",
   "pygments_lexer": "ipython3",
   "version": "3.5.2"
  }
 },
 "nbformat": 4,
 "nbformat_minor": 2
}
