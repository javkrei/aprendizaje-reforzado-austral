{
 "cells": [
  {
   "cell_type": "markdown",
   "metadata": {},
   "source": [
    "# Iteración de política:(del libro de Sutton)\n",
    "\n",
    "<img src=\"iteracion de politica.PNG\">\n",
    "\n",
    "Implementar el algoritmo de mejora de iteración de política."
   ]
  },
  {
   "cell_type": "code",
   "execution_count": null,
   "metadata": {},
   "outputs": [],
   "source": [
    "import numpy as np\n",
    "import pprint\n",
    "import sys\n",
    "if \"../\" not in sys.path:\n",
    "  sys.path.append(\"../\") \n",
    "from lib.envs.gridworld import GridworldEnv"
   ]
  },
  {
   "cell_type": "code",
   "execution_count": null,
   "metadata": {},
   "outputs": [],
   "source": [
    "pp = pprint.PrettyPrinter(indent=2)\n",
    "env = GridworldEnv()"
   ]
  },
  {
   "cell_type": "code",
   "execution_count": null,
   "metadata": {},
   "outputs": [],
   "source": [
    "# Del ejercicio de evaluación de política\n",
    "\n",
    "def policy_eval(policy, env, discount_factor=1.0, theta=0.00001):\n",
    "    \"\"\"\n",
    "    Evaluar una política dado un ambiente y una descripción completa\n",
    "    de la dinámica del ambiente.\n",
    "    \n",
    "    Argumentos:\n",
    "        política: matriz de tamaño [S, A] representando la política.\n",
    "        env: ambiente de OpenAI representadno las probabilidades de transición\n",
    "        del ambiente. \n",
    "        env.P[s][a] es una lista de vectores (probabilidad, próximo_estado, recompensa, done)\n",
    "        env.nS es el número de estados en el ambiente\n",
    "        env.nA es el número de acciones en el ambiente\n",
    "        theta: para la evaluación de la política una vez que la función de valor cambia menos que\n",
    "        theta para todos los estados\n",
    "        discount_factor: factor de descuento gama.\n",
    "        \n",
    "    Retorna:\n",
    "        Vector de longitud env.nS que representa la función de valor.\n",
    "    \"\"\"\n",
    "    # Comenzar con función de valor aleatoria\n",
    "    V = np.zeros(env.nS)\n",
    "    while True:\n",
    "        delta = 0\n",
    "        # Para cada estado realizar un \"full backup\"\n",
    "        for s in range(env.nS):\n",
    "            v = 0\n",
    "            # Fijarse en las posibles próximas acciones\n",
    "            for a, action_prob in enumerate(policy[s]):\n",
    "                # Para cada acción, fijarse en los próximos estados\n",
    "                for  prob, next_state, reward, done in env.P[s][a]:\n",
    "                    # Calcular el valor esperado\n",
    "                    v += action_prob * prob * (reward + discount_factor * V[next_state])\n",
    "            # Cuál fue el máximo cambio de la función de valor\n",
    "            delta = max(delta, np.abs(v - V[s]))\n",
    "            V[s] = v\n",
    "        # Para de evaluar una vez que estamos debajo de un cierto umbral\n",
    "        if delta < theta:\n",
    "            break\n",
    "    return np.array(V)"
   ]
  },
  {
   "cell_type": "code",
   "execution_count": null,
   "metadata": {},
   "outputs": [],
   "source": [
    "def policy_improvement(env, policy_eval_fn=policy_eval, discount_factor=1.0):\n",
    "    \"\"\"\n",
    "    Algoritmo de mejora de una política. Evalúa iterativamente y mejora una política \n",
    "    hasta que encuentra la política óptima.\n",
    "    \n",
    "    Args:\n",
    "        env: ambiente de OpenAI.\n",
    "        policy_eval_fn: función de evaluación de política que toma 3 argumentos: policy, env, discount_factor\n",
    "        discount_factor: factor de descuento gama\n",
    "        \n",
    "    Retorna:\n",
    "        Un tuple (policy, V)\n",
    "        A tuple (policy, V). \n",
    "        policy es la política óptima, una matriz de tamaño [S, A] en que cada estado s contiene una distribución de probabilidad \n",
    "        valida sobre el espacio de acciones.\n",
    "        V es la función de valor para la política óptima.\n",
    "        \n",
    "    \"\"\"\n",
    "    # Comenzar con política aleatoria\n",
    "    policy = np.ones([env.nS, env.nA]) / env.nA\n",
    "    \n",
    "    while True:\n",
    "        # Implementar\n",
    "        \n",
    "        # evaluar (i.e. calcular V, la función de valor de) la política actual\n",
    "        \n",
    "        # mantener una variable que indique si la política es estable (no cambió en este paso)\n",
    "        # por cada estado:\n",
    "            # encontrar cuál es la acción que tomaría la política actual con más alta probabilidad\n",
    "            \n",
    "            # calcular el valor esperado de cada acción utilizando la función de valor actual y haciendo 'one-step look-ahead'\n",
    "            # encontrar la acción con mayor valor esperado dado del cálculo anterior\n",
    "            \n",
    "            # si la acción de la política actual no coincide con la mejor calculada\n",
    "            # actualizar la política\n",
    "            # marcar que la política no fue estable en este paso\n",
    "            \n",
    "        # si la política es estable, devolver la política óptima y la función de valor de esa política\n",
    "        return policy, V\n",
    "    "
   ]
  },
  {
   "cell_type": "code",
   "execution_count": null,
   "metadata": {},
   "outputs": [],
   "source": [
    "policy, v = policy_improvement(env)\n",
    "print(\"Distribución de probabilidad de la política:\")\n",
    "print(policy)\n",
    "print(\"\")\n",
    "\n",
    "print(\"Política exhibida la grilla: (0=arriba, 1=derecha, 2=abajo, 3=izquierda)\")\n",
    "print(np.reshape(np.argmax(policy, axis=1), env.shape))\n",
    "print(\"\")\n",
    "\n",
    "print(\"Función de valor:\")\n",
    "print(v)\n",
    "print(\"\")\n",
    "\n",
    "print(\"Función de valor exhibida en la grilla:\")\n",
    "print(v.reshape(env.shape))\n",
    "print(\"\")\n",
    "\n"
   ]
  },
  {
   "cell_type": "code",
   "execution_count": null,
   "metadata": {},
   "outputs": [],
   "source": [
    "# Test de la función de valor\n",
    "expected_v = np.array([ 0, -1, -2, -3, -1, -2, -3, -2, -2, -3, -2, -1, -3, -2, -1,  0])\n",
    "np.testing.assert_array_almost_equal(v, expected_v, decimal=2)"
   ]
  },
  {
   "cell_type": "code",
   "execution_count": null,
   "metadata": {},
   "outputs": [],
   "source": []
  }
 ],
 "metadata": {
  "kernelspec": {
   "display_name": "Python 3",
   "language": "python",
   "name": "python3"
  },
  "language_info": {
   "codemirror_mode": {
    "name": "ipython",
    "version": 3
   },
   "file_extension": ".py",
   "mimetype": "text/x-python",
   "name": "python",
   "nbconvert_exporter": "python",
   "pygments_lexer": "ipython3",
   "version": "3.5.2"
  }
 },
 "nbformat": 4,
 "nbformat_minor": 1
}
