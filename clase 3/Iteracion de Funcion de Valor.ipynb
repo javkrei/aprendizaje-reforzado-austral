{
 "cells": [
  {
   "cell_type": "markdown",
   "metadata": {},
   "source": [
    "# Iteración de función de valor:(del libro de Sutton)\n",
    "\n",
    "<img src=\"iteracion de funcion de valor.png\">\n",
    "\n",
    "Implementar el algoritmo de mejora de iteración de función de valor."
   ]
  },
  {
   "cell_type": "code",
   "execution_count": null,
   "metadata": {},
   "outputs": [],
   "source": [
    "import numpy as np\n",
    "import pprint\n",
    "import sys\n",
    "if \"../\" not in sys.path:\n",
    "  sys.path.append(\"../\") \n",
    "from lib.envs.gridworld import GridworldEnv"
   ]
  },
  {
   "cell_type": "code",
   "execution_count": null,
   "metadata": {},
   "outputs": [],
   "source": [
    "pp = pprint.PrettyPrinter(indent=2)\n",
    "env = GridworldEnv()"
   ]
  },
  {
   "cell_type": "code",
   "execution_count": null,
   "metadata": {},
   "outputs": [],
   "source": [
    "def value_iteration(env, theta=0.0001, discount_factor=1.0):\n",
    "    \"\"\"\n",
    "    Algoritmo de iteración de la función de valor\n",
    "    \n",
    "    Argumentos:\n",
    "        env: ambiente de OpenAI. env.P representa la transición de probabilidades del ambiente.\n",
    "            env.P[s][a] es una lista de tuplas de transición (prob, next_state, reward, done).\n",
    "            env.nS es el número de estados del ambiente.\n",
    "            env.nA es el número de acciones del ambiente.\n",
    "        theta: Paramos de evaluar una vez que la función de valor cambia menos que theta para todos los estados.\n",
    "        discount_factor: factor de descuento gama.\n",
    "        \n",
    "    Retorna:\n",
    "        Una tupla (policy, V) de política óptima y función de valor óptima.\n",
    "    \"\"\"\n",
    "    \n",
    "    # Implementar!\n",
    "\n",
    "    V = np.zeros(env.nS)\n",
    "    # primero calcular la funcion valor hasta que el cambio maximo de V sea menor a theta\n",
    "    while True:\n",
    "        # por cada estado s\n",
    "          # calcular el retorno esperado para todas las acciones\n",
    "          # elegir la accion con mayor retorno\n",
    "          # mantener una variable (delta) que indica el cambio maximo en V(s) para todos los estados\n",
    "          # hacer update de V(s) = maximo retorno esperado (mejor accion)\n",
    "        # si delta < theta: parar\n",
    "        break\n",
    "    \n",
    "    \n",
    "    policy = np.zeros([env.nS, env.nA])\n",
    "    # ahora calcular la política óptima:\n",
    "    # por cada estado s\n",
    "      # calcular el retorno esperado de cada acción a\n",
    "      # encontrar la acción con mayor retorno esperado a_max\n",
    "      # la política debe realizar esta acción a_max en el estado s con probabilidad 1.0\n",
    "    \n",
    "    \n",
    "    return policy, V"
   ]
  },
  {
   "cell_type": "code",
   "execution_count": null,
   "metadata": {},
   "outputs": [],
   "source": [
    "policy, v = value_iteration(env)\n",
    "\n",
    "print(\"Distribución de probabilidad de la política:\")\n",
    "print(policy)\n",
    "print(\"\")\n",
    "\n",
    "print(\"Política mostrada en la grilla: (0=arriba, 1=derecha, 2=abajo, 3=izquierda)\")\n",
    "print(np.reshape(np.argmax(policy, axis=1), env.shape))\n",
    "print(\"\")\n",
    "\n",
    "print(\"Función de valor:\")\n",
    "print(v)\n",
    "print(\"\")\n",
    "\n",
    "print(\"Función de valor exhibida en la grilla:\")\n",
    "print(v.reshape(env.shape))\n",
    "print(\"\")"
   ]
  },
  {
   "cell_type": "code",
   "execution_count": null,
   "metadata": {},
   "outputs": [],
   "source": [
    "# Testear la función de valor\n",
    "expected_v = np.array([ 0, -1, -2, -3, -1, -2, -3, -2, -2, -3, -2, -1, -3, -2, -1,  0])\n",
    "np.testing.assert_array_almost_equal(v, expected_v, decimal=2)"
   ]
  }
 ],
 "metadata": {
  "kernelspec": {
   "display_name": "Python 3",
   "language": "python",
   "name": "python3"
  },
  "language_info": {
   "codemirror_mode": {
    "name": "ipython",
    "version": 3
   },
   "file_extension": ".py",
   "mimetype": "text/x-python",
   "name": "python",
   "nbconvert_exporter": "python",
   "pygments_lexer": "ipython3",
   "version": "3.5.2"
  }
 },
 "nbformat": 4,
 "nbformat_minor": 1
}
