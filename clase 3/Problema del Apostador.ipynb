{
 "cells": [
  {
   "cell_type": "markdown",
   "metadata": {
    "collapsed": true
   },
   "source": [
    "### Este es el ejemplo 4.3. Problema del Apostador (Gambler’s Problem) del libro de Sutton. (ejercicio clase 3)\n",
    "\n",
    "Un apostador tiene la oportunidad de hacer apuestas a los resultados de una secuencia de tiros de una moneda. \n",
    "Si la moneda cae cara, gana tantos dólares como apostó en esa tirada.\n",
    "Si la moneda cae ceca, pierde lo apostado. El juego termina cuando un apostador gana alcanzando su objetivo de $100, o pierde quedándose sin dinero.\n",
    "\n",
    "En cada tirada el apostador debe decidir qué porción de su capital quiere apostar, una cantidad entera de dólares.\n",
    "El problema puede ser formulado como un MDP finito sin descuento, episódico.\n",
    "\n",
    "Los estados posibles del capital del apostador son: s ∈ {1, 2, . . . , 99}.\n",
    "\n",
    "La acciones son apuestas,  a ∈ {0, 1, . . . , min(s, 100 − s)}. \n",
    "\n",
    "La recompensa es cero en todas las transiciones excepto en aquellas en que el apostador alcanza su objetivo, en que la recompensa es +1.\n",
    "\n",
    "La función de estado-valor da la probabilidad de ganar desde cada estado. Una política es una función de niveles de capital a apuestas. La política óptima maximiza la probabilidad de obtener el objetivo. Llamemos p_h la probabilidad de que una moneda salga cara. Si p_h es conocida, entonces el problema se puede resolver, por ejemplo, con iteración de valor."
   ]
  },
  {
   "cell_type": "code",
   "execution_count": 1,
   "metadata": {
    "collapsed": true
   },
   "outputs": [],
   "source": [
    "import numpy as np\n",
    "import sys\n",
    "import matplotlib.pyplot as plt\n",
    "if \"../\" not in sys.path:\n",
    "  sys.path.append(\"../\") "
   ]
  },
  {
   "cell_type": "markdown",
   "metadata": {
    "collapsed": true
   },
   "source": [
    "\n",
    "### Exercise\n",
    "\n",
    "Implementar iteración de valor para el problema del apostador y resolverlo para p_h = 0.25 y p_h = 0.55.\n"
   ]
  },
  {
   "cell_type": "code",
   "execution_count": 1,
   "metadata": {
    "collapsed": true
   },
   "outputs": [],
   "source": [
    "def value_iteration_for_gamblers(p_h, theta=0.0001, discount_factor=1.0):\n",
    "    \"\"\"\n",
    "    Args:\n",
    "        p_h: Probabilidad de que una moneda caiga cara\n",
    "    \"\"\"\n",
    "    \n",
    "    def one_step_lookahead(s, V, rewards):\n",
    "        \"\"\"\n",
    "        Función auxiliar que calcula el valor de todas las acciones dado un estado.\n",
    "        \n",
    "        Args:\n",
    "            s: El capital del apostador. Entero.\n",
    "            V: El vector que contiene los valores en cada estado.\n",
    "            rewards: El vector recompensa.\n",
    "                        \n",
    "        Returns:\n",
    "            Un vector que contiene el valor esperado de cada acción.\n",
    "            Su longitud es igual a la cantidad de acciones.\n",
    "        \"\"\"\n",
    "        \n",
    "        # Implementar!\n",
    "        \n",
    "        return A\n",
    "    \n",
    "    # Implementar!\n",
    "    \n",
    "    return policy, V"
   ]
  },
  {
   "cell_type": "code",
   "execution_count": null,
   "metadata": {
    "collapsed": true
   },
   "outputs": [],
   "source": [
    "policy, v = value_iteration_for_gamblers(0.25)\n",
    "\n",
    "print(\"Política optimizada:\")\n",
    "print(policy)\n",
    "print(\"\")\n",
    "\n",
    "print(\"Función de valor óptima:\")\n",
    "print(v)\n",
    "print(\"\")"
   ]
  },
  {
   "cell_type": "code",
   "execution_count": 5,
   "metadata": {
    "collapsed": true
   },
   "outputs": [],
   "source": [
    "# Plotear la política final (apuesta) vs estado (capital)\n",
    "\n",
    "# Implementar!"
   ]
  },
  {
   "cell_type": "code",
   "execution_count": 6,
   "metadata": {
    "collapsed": true
   },
   "outputs": [],
   "source": [
    "# Plotear capital vs política final\n",
    "\n",
    "# Implementar!\n"
   ]
  }
 ],
 "metadata": {
  "kernelspec": {
   "display_name": "Python 3",
   "language": "python",
   "name": "python3"
  },
  "language_info": {
   "codemirror_mode": {
    "name": "ipython",
    "version": 3
   },
   "file_extension": ".py",
   "mimetype": "text/x-python",
   "name": "python",
   "nbconvert_exporter": "python",
   "pygments_lexer": "ipython3",
   "version": "3.5.2"
  }
 },
 "nbformat": 4,
 "nbformat_minor": 1
}
