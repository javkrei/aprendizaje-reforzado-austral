{
 "cells": [
  {
   "cell_type": "markdown",
   "metadata": {},
   "source": [
    "## El objetivo de este ejercicio es implementar Q-learning\n",
    "<img src=\"Q-learning.PNG\">"
   ]
  },
  {
   "cell_type": "code",
   "execution_count": null,
   "metadata": {},
   "outputs": [],
   "source": [
    "%matplotlib inline\n",
    "\n",
    "import gym\n",
    "import itertools\n",
    "import matplotlib\n",
    "import numpy as np\n",
    "import pandas as pd\n",
    "import sys\n",
    "\n",
    "if \"../\" not in sys.path:\n",
    "  sys.path.append(\"../\") \n",
    "\n",
    "from collections import defaultdict\n",
    "from lib.envs.cliff_walking import CliffWalkingEnv\n",
    "from lib import plotting\n",
    "\n",
    "matplotlib.style.use('ggplot')"
   ]
  },
  {
   "cell_type": "code",
   "execution_count": null,
   "metadata": {},
   "outputs": [],
   "source": [
    "env = CliffWalkingEnv()"
   ]
  },
  {
   "cell_type": "code",
   "execution_count": null,
   "metadata": {},
   "outputs": [],
   "source": [
    "def make_epsilon_greedy_policy(Q, epsilon, nA):\n",
    "    \"\"\"\n",
    "    Crea una política epsilon-greedy basado en una q-función (función de valor estado-acción) y un epsilon dados.\n",
    "    \n",
    "    Argumentos:\n",
    "        Q: un diccionario que mapea cada estado/observación s a un array de numpy Q[s] = array([v_0, v_1, ... , v_nA]) de longitud nA\n",
    "        que para un índice a del array contiene el valor v_a de tomar la acción a en el estado s. \n",
    "        (en nuestra notación de la clase q(s,a))\n",
    "         \n",
    "        epsilon: probabilidad de seleccionar una acción aleatoria (obliga a explorar), valor entre 0 y 1.\n",
    "        \n",
    "        nA: número de acciones en el entorno\n",
    "    \n",
    "    Retorna:\n",
    "        Una función que dada una observación como argumento, retorna una política (un array de numpy de longitud nA)\n",
    "        con probabilidades para cada acción. La política es tal que toma la mejor acción según Q con probabilidad (1-epsilon)\n",
    "        y toma una acción al azar con probabilidad epsilon \n",
    "    \"\"\"\n",
    "    \n",
    "    def policy_fn(observation):\n",
    "        A = np.ones(nA, dtype=float) * epsilon / nA\n",
    "        best_action = np.argmax(Q[observation])\n",
    "        A[best_action] += (1.0 - epsilon)\n",
    "        return A\n",
    "    return policy_fn"
   ]
  },
  {
   "cell_type": "code",
   "execution_count": null,
   "metadata": {},
   "outputs": [],
   "source": [
    "def q_learning(env, num_episodes, discount_factor=1.0, alpha=0.5, epsilon=0.1):\n",
    "    \"\"\"\n",
    "    Algoritmo de Q-learning: Control TD off-policy. Encuentra la política greedy óptima mientras se comporta con una \n",
    "    política epsilon-greedy.\n",
    "    \n",
    "    Argumentos:\n",
    "        env: ambiente de OpenAI.\n",
    "        num_episodes: Número de episodios durante los cuales correr el algoritmo.\n",
    "        discount_factor: factor de descuento gama.\n",
    "        alpha: factor de aprendizaje TD.\n",
    "        epsilon: Probabilidad de elegir una acción aleatoria. Entre 0 y 1.\n",
    "    \n",
    "    Retorna:\n",
    "        Una tupla (Q, episode_lengths).\n",
    "        Q es la función de valor estado-acción óptima\n",
    "        Q es la función de valor estado-acción óptima, un diccionario que mapea estado -> array de valores para cada acción.\n",
    "        stats es un objeto EpisodeStats con dos arrays numpy para longitud de episodios y longitud de recompensas.\n",
    "    \"\"\"\n",
    "    \n",
    "    # La función de valor estado-acción final (q-función final)\n",
    "    #  un diccionario que mapea estado -> array de valores para cada acción.\n",
    "    Q = defaultdict(lambda: np.zeros(env.action_space.n))\n",
    "\n",
    "    # estadísticas útiles\n",
    "    stats = plotting.EpisodeStats(\n",
    "        episode_lengths=np.zeros(num_episodes),\n",
    "        episode_rewards=np.zeros(num_episodes))    \n",
    "    \n",
    "    # la política que seguimos\n",
    "    policy = make_epsilon_greedy_policy(Q, epsilon, env.action_space.n)\n",
    "    \n",
    "    for i_episode in range(num_episodes):\n",
    "        # printear cada 100 episodios\n",
    "        if (i_episode + 1) % 100 == 0:\n",
    "            print(\"\\rEpisodio {}/{}.\".format(i_episode + 1, num_episodes), end=\"\")\n",
    "            sys.stdout.flush()\n",
    "            \n",
    "        # Resetear el ambiente y elegir una primera acción\n",
    "        state = env.reset()\n",
    "        \n",
    "        # Relalizar un paso en el ambiente\n",
    "        # total_reward = 0.0\n",
    "        for t in itertools.count():\n",
    "            \n",
    "            # Tomar un paso\n",
    "            action_probs = policy(state)\n",
    "            action = np.random.choice(np.arange(len(action_probs)), p=action_probs)\n",
    "            next_state, reward, done, _ = env.step(action)\n",
    "\n",
    "            # Actualizar las estadísticas\n",
    "            stats.episode_rewards[i_episode] += reward\n",
    "            stats.episode_lengths[i_episode] = t\n",
    "            \n",
    "            # Actualización TD\n",
    "            best_next_action = np.argmax(Q[next_state])    \n",
    "            ####### COMPLETAR #########\n",
    "            Q[state][action] += \n",
    "                \n",
    "            if done:\n",
    "                break\n",
    "                \n",
    "            state = next_state\n",
    "    \n",
    "    return Q, stats"
   ]
  },
  {
   "cell_type": "code",
   "execution_count": null,
   "metadata": {},
   "outputs": [],
   "source": [
    "Q, stats = q_learning(env, 500)"
   ]
  },
  {
   "cell_type": "code",
   "execution_count": null,
   "metadata": {},
   "outputs": [],
   "source": [
    "plotting.plot_episode_stats(stats)"
   ]
  },
  {
   "cell_type": "code",
   "execution_count": null,
   "metadata": {},
   "outputs": [],
   "source": []
  }
 ],
 "metadata": {
  "kernelspec": {
   "display_name": "Python 3",
   "language": "python",
   "name": "python3"
  },
  "language_info": {
   "codemirror_mode": {
    "name": "ipython",
    "version": 3
   },
   "file_extension": ".py",
   "mimetype": "text/x-python",
   "name": "python",
   "nbconvert_exporter": "python",
   "pygments_lexer": "ipython3",
   "version": "3.6.7"
  }
 },
 "nbformat": 4,
 "nbformat_minor": 1
}
