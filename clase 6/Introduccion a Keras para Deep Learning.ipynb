{
 "cells": [
  {
   "cell_type": "markdown",
   "metadata": {},
   "source": [
    "## Introducción a Keras para Deep Learning"
   ]
  },
  {
   "cell_type": "markdown",
   "metadata": {},
   "source": [
    "<div class=\"alert alert-block alert-info\" style=\"font-size:16px;\">\n",
    "    <b>Keras</b> es una librería de redes neuronales en Python que puede correr sobre varios backends (e.g. Tensorflow). Con ella es posible armar modelos de Deep Learning muy fácilmente. Utilizar directamente Tensorflow tiene un montón de facilidades, pero el proceso puede ser difícil, especialmente para quienes son nuevos en Deep Learning. Keras está ganando popularidad. Esta es una mini intro. <br>\n",
    "    <br>\n",
    "Podemos decir que los pasos básicos para la construcción de un modelo son:\n",
    "    <br>\n",
    "\n",
    "<b>1.</b> Armar el modelo. <br>\n",
    "<b>2.</b> Elegir la loss function y el optimizador y compilar el modelo. <br>\n",
    "<b>3.</b> Entrenar el modelo. <br>\n",
    "<b>4.</b> Evaluar el modelo/hacer predicciones. <br>\n",
    "<br> \n",
    "\n",
    "Vamos a realizar estos pasos más abajo. </div>\n",
    "\n",
    "\n",
    "\n"
   ]
  },
  {
   "cell_type": "markdown",
   "metadata": {},
   "source": [
    "<div class=\"alert alert-block alert-info\" style=\"font-size:16px;\">\n",
    "<b> Paso 0. Importar datos de MNIST.</b>\n",
    "</div>"
   ]
  },
  {
   "cell_type": "code",
   "execution_count": 1,
   "metadata": {},
   "outputs": [
    {
     "name": "stderr",
     "output_type": "stream",
     "text": [
      "/home/javkrei/.local/lib/python3.6/site-packages/tensorflow/python/framework/dtypes.py:516: FutureWarning: Passing (type, 1) or '1type' as a synonym of type is deprecated; in a future version of numpy, it will be understood as (type, (1,)) / '(1,)type'.\n",
      "  _np_qint8 = np.dtype([(\"qint8\", np.int8, 1)])\n",
      "/home/javkrei/.local/lib/python3.6/site-packages/tensorflow/python/framework/dtypes.py:517: FutureWarning: Passing (type, 1) or '1type' as a synonym of type is deprecated; in a future version of numpy, it will be understood as (type, (1,)) / '(1,)type'.\n",
      "  _np_quint8 = np.dtype([(\"quint8\", np.uint8, 1)])\n",
      "/home/javkrei/.local/lib/python3.6/site-packages/tensorflow/python/framework/dtypes.py:518: FutureWarning: Passing (type, 1) or '1type' as a synonym of type is deprecated; in a future version of numpy, it will be understood as (type, (1,)) / '(1,)type'.\n",
      "  _np_qint16 = np.dtype([(\"qint16\", np.int16, 1)])\n",
      "/home/javkrei/.local/lib/python3.6/site-packages/tensorflow/python/framework/dtypes.py:519: FutureWarning: Passing (type, 1) or '1type' as a synonym of type is deprecated; in a future version of numpy, it will be understood as (type, (1,)) / '(1,)type'.\n",
      "  _np_quint16 = np.dtype([(\"quint16\", np.uint16, 1)])\n",
      "/home/javkrei/.local/lib/python3.6/site-packages/tensorflow/python/framework/dtypes.py:520: FutureWarning: Passing (type, 1) or '1type' as a synonym of type is deprecated; in a future version of numpy, it will be understood as (type, (1,)) / '(1,)type'.\n",
      "  _np_qint32 = np.dtype([(\"qint32\", np.int32, 1)])\n",
      "/home/javkrei/.local/lib/python3.6/site-packages/tensorflow/python/framework/dtypes.py:525: FutureWarning: Passing (type, 1) or '1type' as a synonym of type is deprecated; in a future version of numpy, it will be understood as (type, (1,)) / '(1,)type'.\n",
      "  np_resource = np.dtype([(\"resource\", np.ubyte, 1)])\n",
      "/home/javkrei/.local/lib/python3.6/site-packages/tensorboard/compat/tensorflow_stub/dtypes.py:541: FutureWarning: Passing (type, 1) or '1type' as a synonym of type is deprecated; in a future version of numpy, it will be understood as (type, (1,)) / '(1,)type'.\n",
      "  _np_qint8 = np.dtype([(\"qint8\", np.int8, 1)])\n",
      "/home/javkrei/.local/lib/python3.6/site-packages/tensorboard/compat/tensorflow_stub/dtypes.py:542: FutureWarning: Passing (type, 1) or '1type' as a synonym of type is deprecated; in a future version of numpy, it will be understood as (type, (1,)) / '(1,)type'.\n",
      "  _np_quint8 = np.dtype([(\"quint8\", np.uint8, 1)])\n",
      "/home/javkrei/.local/lib/python3.6/site-packages/tensorboard/compat/tensorflow_stub/dtypes.py:543: FutureWarning: Passing (type, 1) or '1type' as a synonym of type is deprecated; in a future version of numpy, it will be understood as (type, (1,)) / '(1,)type'.\n",
      "  _np_qint16 = np.dtype([(\"qint16\", np.int16, 1)])\n",
      "/home/javkrei/.local/lib/python3.6/site-packages/tensorboard/compat/tensorflow_stub/dtypes.py:544: FutureWarning: Passing (type, 1) or '1type' as a synonym of type is deprecated; in a future version of numpy, it will be understood as (type, (1,)) / '(1,)type'.\n",
      "  _np_quint16 = np.dtype([(\"quint16\", np.uint16, 1)])\n",
      "/home/javkrei/.local/lib/python3.6/site-packages/tensorboard/compat/tensorflow_stub/dtypes.py:545: FutureWarning: Passing (type, 1) or '1type' as a synonym of type is deprecated; in a future version of numpy, it will be understood as (type, (1,)) / '(1,)type'.\n",
      "  _np_qint32 = np.dtype([(\"qint32\", np.int32, 1)])\n",
      "/home/javkrei/.local/lib/python3.6/site-packages/tensorboard/compat/tensorflow_stub/dtypes.py:550: FutureWarning: Passing (type, 1) or '1type' as a synonym of type is deprecated; in a future version of numpy, it will be understood as (type, (1,)) / '(1,)type'.\n",
      "  np_resource = np.dtype([(\"resource\", np.ubyte, 1)])\n"
     ]
    },
    {
     "name": "stdout",
     "output_type": "stream",
     "text": [
      "Downloading data from https://storage.googleapis.com/tensorflow/tf-keras-datasets/mnist.npz\n",
      "11493376/11490434 [==============================] - 8s 1us/step\n"
     ]
    },
    {
     "data": {
      "image/png": "[encoded data removed]",
      "text/plain": [
       "<Figure size 1152x576 with 5 Axes>"
      ]
     },
     "metadata": {
      "needs_background": "light"
     },
     "output_type": "display_data"
    }
   ],
   "source": [
    "%matplotlib inline\n",
    "import numpy as np\n",
    "import tensorflow as tf\n",
    "from sklearn.preprocessing import OneHotEncoder\n",
    "\n",
    "import matplotlib.pyplot as plt\n",
    "# para rotar las imágenes:\n",
    "from scipy import ndimage\n",
    "\n",
    "# usar las facilidades de keras para importar MNIST\n",
    "mnist = tf.keras.datasets.mnist\n",
    "\n",
    "(x_train, y_train),(x_test, y_test) = mnist.load_data()\n",
    "x_train, x_test = x_train / 255.0, x_test / 255.0\n",
    "\n",
    "enc = OneHotEncoder(handle_unknown='ignore')\n",
    "# onehot-encodear el train y el test set\n",
    "enc.fit(y_train.reshape(-1,1))\n",
    "y_train_onehot = enc.transform(y_train.reshape(-1,1)).toarray()\n",
    "y_test_onehot = enc.transform(y_test.reshape(-1,1)).toarray()\n",
    "\n",
    "# elegimos 2200 ejemplos de MNIST aleatoriamente\n",
    "\n",
    "# 2000 para entrenar\n",
    "idx = np.random.randint(x_train.shape[0], size=2200)\n",
    "x_train_sample = x_train[idx[0:2000],:,:]\n",
    "y_train_sample_onehot = y_train_onehot[idx[0:2000],:]\n",
    "\n",
    "# 200 ejemplos para el conjunto de validación (early stopping)\n",
    "x_val_1 = x_train[idx[2000:2200],:,:]\n",
    "y_val_1 = y_train[idx[2000:2200]]\n",
    "y_val_1_onehot = enc.transform(y_val_1.reshape(-1,1)).toarray()\n",
    "\n",
    "# mostrar algunas imágenes para saber de qué se trata\n",
    "fig, axes = plt.subplots(5,1,figsize=(16,8))\n",
    "axes[0].set_title(\"MNIST\")\n",
    "for i in range(5):\n",
    "    axes[i].set_axis_off()\n",
    "    axes[i].imshow(x_train_sample[i,:,:], interpolation='nearest', cmap='gray')"
   ]
  },
  {
   "cell_type": "markdown",
   "metadata": {},
   "source": [
    "<div class=\"alert alert-block alert-info\" style=\"font-size:16px;\">\n",
    "<b> 1. Armar el modelo.</b>\n",
    "</div>"
   ]
  },
  {
   "cell_type": "code",
   "execution_count": 2,
   "metadata": {},
   "outputs": [
    {
     "name": "stdout",
     "output_type": "stream",
     "text": [
      "WARNING:tensorflow:From /home/javkrei/.local/lib/python3.6/site-packages/tensorflow/python/keras/initializers.py:143: calling RandomNormal.__init__ (from tensorflow.python.ops.init_ops) with dtype is deprecated and will be removed in a future version.\n",
      "Instructions for updating:\n",
      "Call initializer instance with the dtype argument instead of passing it to the constructor\n"
     ]
    }
   ],
   "source": [
    "# se construye un modelo secuencial en keras, se inicializan los pesos aleatoriamnete con una distribución normal\n",
    "# centrada en 0 y con desviación estándar 1/sqrt(n_in), donde n_in es el tamaño del input del layer\n",
    "\n",
    "# así definimos un modelo secuencial en el cual los inputs fluyen de una capa a otra en la secuencia\n",
    "model = tf.keras.models.Sequential()\n",
    "\n",
    "# model.add(...) permite adicionar capas al modelo\n",
    "# construimos un modelo con dos capas ocultas, una de 512 unidades y otra de 256\n",
    "# el output son diez unidades, una por cada posible dígito (0,1,2,...,9)\n",
    "\n",
    "model.add(tf.keras.layers.Flatten()) # Flatten() es una capa para \"aplastar las imágenes\"\n",
    "        \n",
    "model.add(tf.keras.layers.Dense(512, activation=tf.nn.relu, # Dense(...) es una capa totalmente conectada \n",
    "                                                            # (hay un peso por cada par de unidades de la capa C a la capa C+1)\n",
    "                                                            # activation permite definir la función de activación, por ejemplo,\n",
    "                                                            # relu (rectified linear unit), o linear (sin función de activación)\n",
    "                              kernel_initializer=tf.keras.initializers.random_normal(mean=0, stddev=np.sqrt(1/784))))\n",
    "                                                            # kernel_initializer permite inicializar los valores de los pesos\n",
    "model.add(tf.keras.layers.Dense(256, activation=tf.nn.relu,\n",
    "                              kernel_initializer=tf.keras.initializers.random_normal(mean=0, stddev=np.sqrt(1/512))))\n",
    "model.add(tf.keras.layers.Dense(10, activation=tf.nn.softmax,\n",
    "                              kernel_initializer=tf.keras.initializers.random_normal(mean=0, stddev=np.sqrt(1/256))))\n"
   ]
  },
  {
   "cell_type": "markdown",
   "metadata": {},
   "source": [
    "<div class=\"alert alert-block alert-info\" style=\"font-size:16px;\">\n",
    "<b> 2. Elegir la loss function y el optimizador y compilar el modelo. </b>\n",
    "</div>"
   ]
  },
  {
   "cell_type": "code",
   "execution_count": 3,
   "metadata": {},
   "outputs": [],
   "source": [
    "# en este caso utilizamos Adam como optim izador con learning rate 10e-3\n",
    "optimizer = tf.keras.optimizers.Adam(lr=0.001)\n",
    "\n",
    "\n",
    "# la loss es la crossentropy\n",
    "loss = tf.keras.losses.categorical_crossentropy\n",
    "\n",
    "# se compila el modelo\n",
    "# las métricas con el parámetro metrics permite monitorear la evolución del modelo\n",
    "# en este caso elegimos la categorical accuracy y la categorical crossentropy\n",
    "model.compile(optimizer=optimizer,\n",
    "              loss=loss,\n",
    "              metrics=['categorical_accuracy', 'categorical_crossentropy'])\n"
   ]
  },
  {
   "cell_type": "markdown",
   "metadata": {},
   "source": [
    "<div class=\"alert alert-block alert-info\" style=\"font-size:16px;\">\n",
    "<b> 3. Entrenar el modelo.</b>\n",
    "</div>"
   ]
  },
  {
   "cell_type": "code",
   "execution_count": 4,
   "metadata": {},
   "outputs": [
    {
     "name": "stdout",
     "output_type": "stream",
     "text": [
      "Train on 2000 samples, validate on 200 samples\n",
      "Epoch 1/100\n",
      "2000/2000 [==============================] - 0s 145us/sample - loss: 1.2219 - categorical_accuracy: 0.6735 - categorical_crossentropy: 1.2219 - val_loss: 0.5772 - val_categorical_accuracy: 0.8200 - val_categorical_crossentropy: 0.5772\n",
      "Epoch 2/100\n",
      "2000/2000 [==============================] - 0s 56us/sample - loss: 0.3952 - categorical_accuracy: 0.8845 - categorical_crossentropy: 0.3952 - val_loss: 0.5049 - val_categorical_accuracy: 0.8550 - val_categorical_crossentropy: 0.5049\n",
      "Epoch 3/100\n",
      "2000/2000 [==============================] - 0s 58us/sample - loss: 0.2531 - categorical_accuracy: 0.9200 - categorical_crossentropy: 0.2531 - val_loss: 0.4245 - val_categorical_accuracy: 0.8900 - val_categorical_crossentropy: 0.4245\n",
      "Epoch 4/100\n",
      "2000/2000 [==============================] - 0s 59us/sample - loss: 0.1603 - categorical_accuracy: 0.9550 - categorical_crossentropy: 0.1603 - val_loss: 0.3444 - val_categorical_accuracy: 0.9000 - val_categorical_crossentropy: 0.3444\n",
      "Epoch 5/100\n",
      "2000/2000 [==============================] - 0s 68us/sample - loss: 0.1076 - categorical_accuracy: 0.9770 - categorical_crossentropy: 0.1076 - val_loss: 0.3747 - val_categorical_accuracy: 0.8900 - val_categorical_crossentropy: 0.3747\n",
      "Epoch 6/100\n",
      "2000/2000 [==============================] - 0s 53us/sample - loss: 0.0773 - categorical_accuracy: 0.9865 - categorical_crossentropy: 0.0773 - val_loss: 0.3532 - val_categorical_accuracy: 0.9200 - val_categorical_crossentropy: 0.3532\n",
      "Epoch 7/100\n",
      "2000/2000 [==============================] - 0s 52us/sample - loss: 0.0524 - categorical_accuracy: 0.9905 - categorical_crossentropy: 0.0524 - val_loss: 0.3368 - val_categorical_accuracy: 0.9200 - val_categorical_crossentropy: 0.3368\n",
      "Epoch 8/100\n",
      "2000/2000 [==============================] - 0s 49us/sample - loss: 0.0355 - categorical_accuracy: 0.9960 - categorical_crossentropy: 0.0355 - val_loss: 0.3116 - val_categorical_accuracy: 0.9400 - val_categorical_crossentropy: 0.3116\n",
      "Epoch 9/100\n",
      "2000/2000 [==============================] - 0s 50us/sample - loss: 0.0236 - categorical_accuracy: 0.9985 - categorical_crossentropy: 0.0236 - val_loss: 0.3221 - val_categorical_accuracy: 0.9500 - val_categorical_crossentropy: 0.3221\n",
      "Epoch 10/100\n",
      "2000/2000 [==============================] - 0s 52us/sample - loss: 0.0157 - categorical_accuracy: 0.9995 - categorical_crossentropy: 0.0157 - val_loss: 0.3518 - val_categorical_accuracy: 0.9400 - val_categorical_crossentropy: 0.3518\n",
      "Epoch 11/100\n",
      "2000/2000 [==============================] - 0s 52us/sample - loss: 0.0113 - categorical_accuracy: 1.0000 - categorical_crossentropy: 0.0113 - val_loss: 0.3488 - val_categorical_accuracy: 0.9400 - val_categorical_crossentropy: 0.3488\n",
      "Epoch 12/100\n",
      "2000/2000 [==============================] - 0s 50us/sample - loss: 0.0090 - categorical_accuracy: 1.0000 - categorical_crossentropy: 0.0090 - val_loss: 0.3524 - val_categorical_accuracy: 0.9400 - val_categorical_crossentropy: 0.3524\n",
      "Epoch 13/100\n",
      "2000/2000 [==============================] - 0s 52us/sample - loss: 0.0068 - categorical_accuracy: 1.0000 - categorical_crossentropy: 0.0068 - val_loss: 0.3480 - val_categorical_accuracy: 0.9400 - val_categorical_crossentropy: 0.3480\n",
      "Epoch 14/100\n",
      "2000/2000 [==============================] - 0s 60us/sample - loss: 0.0053 - categorical_accuracy: 1.0000 - categorical_crossentropy: 0.0053 - val_loss: 0.3586 - val_categorical_accuracy: 0.9400 - val_categorical_crossentropy: 0.3586\n",
      "Epoch 15/100\n",
      "2000/2000 [==============================] - 0s 59us/sample - loss: 0.0041 - categorical_accuracy: 1.0000 - categorical_crossentropy: 0.0041 - val_loss: 0.3471 - val_categorical_accuracy: 0.9450 - val_categorical_crossentropy: 0.3471\n",
      "Epoch 16/100\n",
      "2000/2000 [==============================] - 0s 63us/sample - loss: 0.0034 - categorical_accuracy: 1.0000 - categorical_crossentropy: 0.0034 - val_loss: 0.3563 - val_categorical_accuracy: 0.9400 - val_categorical_crossentropy: 0.3563\n",
      "Epoch 17/100\n",
      "2000/2000 [==============================] - 0s 62us/sample - loss: 0.0029 - categorical_accuracy: 1.0000 - categorical_crossentropy: 0.0029 - val_loss: 0.3541 - val_categorical_accuracy: 0.9450 - val_categorical_crossentropy: 0.3541\n",
      "Epoch 18/100\n",
      "2000/2000 [==============================] - 0s 63us/sample - loss: 0.0025 - categorical_accuracy: 1.0000 - categorical_crossentropy: 0.0025 - val_loss: 0.3594 - val_categorical_accuracy: 0.9400 - val_categorical_crossentropy: 0.3594\n",
      "Epoch 19/100\n",
      "2000/2000 [==============================] - 0s 60us/sample - loss: 0.0022 - categorical_accuracy: 1.0000 - categorical_crossentropy: 0.0022 - val_loss: 0.3678 - val_categorical_accuracy: 0.9400 - val_categorical_crossentropy: 0.3678\n",
      "Epoch 20/100\n",
      "2000/2000 [==============================] - 0s 63us/sample - loss: 0.0020 - categorical_accuracy: 1.0000 - categorical_crossentropy: 0.0020 - val_loss: 0.3698 - val_categorical_accuracy: 0.9400 - val_categorical_crossentropy: 0.3698\n",
      "Epoch 21/100\n",
      "2000/2000 [==============================] - 0s 58us/sample - loss: 0.0018 - categorical_accuracy: 1.0000 - categorical_crossentropy: 0.0018 - val_loss: 0.3683 - val_categorical_accuracy: 0.9400 - val_categorical_crossentropy: 0.3683\n",
      "Epoch 22/100\n",
      "2000/2000 [==============================] - 0s 49us/sample - loss: 0.0016 - categorical_accuracy: 1.0000 - categorical_crossentropy: 0.0016 - val_loss: 0.3808 - val_categorical_accuracy: 0.9400 - val_categorical_crossentropy: 0.3808\n",
      "Epoch 23/100\n",
      "2000/2000 [==============================] - 0s 51us/sample - loss: 0.0014 - categorical_accuracy: 1.0000 - categorical_crossentropy: 0.0014 - val_loss: 0.3679 - val_categorical_accuracy: 0.9400 - val_categorical_crossentropy: 0.3679\n",
      "Epoch 24/100\n",
      "2000/2000 [==============================] - 0s 49us/sample - loss: 0.0013 - categorical_accuracy: 1.0000 - categorical_crossentropy: 0.0013 - val_loss: 0.3801 - val_categorical_accuracy: 0.9400 - val_categorical_crossentropy: 0.3801\n",
      "Epoch 25/100\n",
      "2000/2000 [==============================] - 0s 52us/sample - loss: 0.0012 - categorical_accuracy: 1.0000 - categorical_crossentropy: 0.0012 - val_loss: 0.3783 - val_categorical_accuracy: 0.9400 - val_categorical_crossentropy: 0.3783\n",
      "Epoch 26/100\n",
      "2000/2000 [==============================] - 0s 48us/sample - loss: 0.0011 - categorical_accuracy: 1.0000 - categorical_crossentropy: 0.0011 - val_loss: 0.3837 - val_categorical_accuracy: 0.9400 - val_categorical_crossentropy: 0.3837\n",
      "Epoch 27/100\n",
      "2000/2000 [==============================] - 0s 51us/sample - loss: 0.0010 - categorical_accuracy: 1.0000 - categorical_crossentropy: 0.0010 - val_loss: 0.3843 - val_categorical_accuracy: 0.9400 - val_categorical_crossentropy: 0.3843\n",
      "Epoch 28/100\n",
      "2000/2000 [==============================] - 0s 52us/sample - loss: 9.2374e-04 - categorical_accuracy: 1.0000 - categorical_crossentropy: 9.2374e-04 - val_loss: 0.3888 - val_categorical_accuracy: 0.9400 - val_categorical_crossentropy: 0.3888\n",
      "Epoch 29/100\n",
      "2000/2000 [==============================] - 0s 51us/sample - loss: 8.5376e-04 - categorical_accuracy: 1.0000 - categorical_crossentropy: 8.5376e-04 - val_loss: 0.3929 - val_categorical_accuracy: 0.9400 - val_categorical_crossentropy: 0.3929\n",
      "Epoch 30/100\n",
      "2000/2000 [==============================] - 0s 53us/sample - loss: 7.8705e-04 - categorical_accuracy: 1.0000 - categorical_crossentropy: 7.8705e-04 - val_loss: 0.3967 - val_categorical_accuracy: 0.9400 - val_categorical_crossentropy: 0.3967\n",
      "Epoch 31/100\n",
      "2000/2000 [==============================] - 0s 50us/sample - loss: 7.2325e-04 - categorical_accuracy: 1.0000 - categorical_crossentropy: 7.2325e-04 - val_loss: 0.3983 - val_categorical_accuracy: 0.9400 - val_categorical_crossentropy: 0.3983\n",
      "Epoch 32/100\n",
      "2000/2000 [==============================] - 0s 59us/sample - loss: 6.7137e-04 - categorical_accuracy: 1.0000 - categorical_crossentropy: 6.7137e-04 - val_loss: 0.4005 - val_categorical_accuracy: 0.9400 - val_categorical_crossentropy: 0.4005\n",
      "Epoch 33/100\n",
      "2000/2000 [==============================] - 0s 57us/sample - loss: 6.3201e-04 - categorical_accuracy: 1.0000 - categorical_crossentropy: 6.3201e-04 - val_loss: 0.4003 - val_categorical_accuracy: 0.9400 - val_categorical_crossentropy: 0.4003\n"
     ]
    },
    {
     "name": "stdout",
     "output_type": "stream",
     "text": [
      "Epoch 34/100\n",
      "2000/2000 [==============================] - 0s 51us/sample - loss: 5.9145e-04 - categorical_accuracy: 1.0000 - categorical_crossentropy: 5.9145e-04 - val_loss: 0.4032 - val_categorical_accuracy: 0.9400 - val_categorical_crossentropy: 0.4032\n",
      "Epoch 35/100\n",
      "2000/2000 [==============================] - 0s 51us/sample - loss: 5.4727e-04 - categorical_accuracy: 1.0000 - categorical_crossentropy: 5.4727e-04 - val_loss: 0.4093 - val_categorical_accuracy: 0.9400 - val_categorical_crossentropy: 0.4093\n",
      "Epoch 36/100\n",
      "2000/2000 [==============================] - 0s 59us/sample - loss: 5.1292e-04 - categorical_accuracy: 1.0000 - categorical_crossentropy: 5.1292e-04 - val_loss: 0.4076 - val_categorical_accuracy: 0.9400 - val_categorical_crossentropy: 0.4076\n",
      "Epoch 37/100\n",
      "2000/2000 [==============================] - 0s 57us/sample - loss: 4.8433e-04 - categorical_accuracy: 1.0000 - categorical_crossentropy: 4.8433e-04 - val_loss: 0.4104 - val_categorical_accuracy: 0.9400 - val_categorical_crossentropy: 0.4104\n",
      "Epoch 38/100\n",
      "2000/2000 [==============================] - 0s 51us/sample - loss: 4.5353e-04 - categorical_accuracy: 1.0000 - categorical_crossentropy: 4.5353e-04 - val_loss: 0.4167 - val_categorical_accuracy: 0.9400 - val_categorical_crossentropy: 0.4167\n",
      "Epoch 39/100\n",
      "2000/2000 [==============================] - 0s 47us/sample - loss: 4.2448e-04 - categorical_accuracy: 1.0000 - categorical_crossentropy: 4.2448e-04 - val_loss: 0.4124 - val_categorical_accuracy: 0.9400 - val_categorical_crossentropy: 0.4124\n",
      "Epoch 40/100\n",
      "2000/2000 [==============================] - 0s 48us/sample - loss: 3.9750e-04 - categorical_accuracy: 1.0000 - categorical_crossentropy: 3.9750e-04 - val_loss: 0.4219 - val_categorical_accuracy: 0.9400 - val_categorical_crossentropy: 0.4219\n",
      "Epoch 41/100\n",
      "2000/2000 [==============================] - 0s 60us/sample - loss: 3.7623e-04 - categorical_accuracy: 1.0000 - categorical_crossentropy: 3.7623e-04 - val_loss: 0.4199 - val_categorical_accuracy: 0.9400 - val_categorical_crossentropy: 0.4199\n",
      "Epoch 42/100\n",
      "2000/2000 [==============================] - 0s 61us/sample - loss: 3.5249e-04 - categorical_accuracy: 1.0000 - categorical_crossentropy: 3.5249e-04 - val_loss: 0.4223 - val_categorical_accuracy: 0.9400 - val_categorical_crossentropy: 0.4223\n",
      "Epoch 43/100\n",
      "2000/2000 [==============================] - 0s 57us/sample - loss: 3.3344e-04 - categorical_accuracy: 1.0000 - categorical_crossentropy: 3.3344e-04 - val_loss: 0.4264 - val_categorical_accuracy: 0.9400 - val_categorical_crossentropy: 0.4264\n",
      "Epoch 44/100\n",
      "2000/2000 [==============================] - 0s 57us/sample - loss: 3.1558e-04 - categorical_accuracy: 1.0000 - categorical_crossentropy: 3.1558e-04 - val_loss: 0.4286 - val_categorical_accuracy: 0.9400 - val_categorical_crossentropy: 0.4286\n",
      "Epoch 45/100\n",
      "2000/2000 [==============================] - 0s 50us/sample - loss: 3.0126e-04 - categorical_accuracy: 1.0000 - categorical_crossentropy: 3.0126e-04 - val_loss: 0.4259 - val_categorical_accuracy: 0.9400 - val_categorical_crossentropy: 0.4259\n",
      "Epoch 46/100\n",
      "2000/2000 [==============================] - 0s 52us/sample - loss: 2.8526e-04 - categorical_accuracy: 1.0000 - categorical_crossentropy: 2.8526e-04 - val_loss: 0.4302 - val_categorical_accuracy: 0.9400 - val_categorical_crossentropy: 0.4302\n",
      "Epoch 47/100\n",
      "2000/2000 [==============================] - 0s 60us/sample - loss: 2.7127e-04 - categorical_accuracy: 1.0000 - categorical_crossentropy: 2.7127e-04 - val_loss: 0.4339 - val_categorical_accuracy: 0.9400 - val_categorical_crossentropy: 0.4339\n",
      "Epoch 48/100\n",
      "2000/2000 [==============================] - 0s 55us/sample - loss: 2.5836e-04 - categorical_accuracy: 1.0000 - categorical_crossentropy: 2.5836e-04 - val_loss: 0.4332 - val_categorical_accuracy: 0.9400 - val_categorical_crossentropy: 0.4332\n",
      "Epoch 49/100\n",
      "2000/2000 [==============================] - 0s 50us/sample - loss: 2.4507e-04 - categorical_accuracy: 1.0000 - categorical_crossentropy: 2.4507e-04 - val_loss: 0.4378 - val_categorical_accuracy: 0.9400 - val_categorical_crossentropy: 0.4378\n",
      "Epoch 50/100\n",
      "2000/2000 [==============================] - 0s 47us/sample - loss: 2.3465e-04 - categorical_accuracy: 1.0000 - categorical_crossentropy: 2.3465e-04 - val_loss: 0.4370 - val_categorical_accuracy: 0.9400 - val_categorical_crossentropy: 0.4370\n",
      "Epoch 51/100\n",
      "2000/2000 [==============================] - 0s 55us/sample - loss: 2.2422e-04 - categorical_accuracy: 1.0000 - categorical_crossentropy: 2.2422e-04 - val_loss: 0.4421 - val_categorical_accuracy: 0.9350 - val_categorical_crossentropy: 0.4421\n",
      "Epoch 52/100\n",
      "2000/2000 [==============================] - 0s 62us/sample - loss: 2.1444e-04 - categorical_accuracy: 1.0000 - categorical_crossentropy: 2.1444e-04 - val_loss: 0.4418 - val_categorical_accuracy: 0.9400 - val_categorical_crossentropy: 0.4418\n",
      "Epoch 53/100\n",
      "2000/2000 [==============================] - 0s 52us/sample - loss: 2.0454e-04 - categorical_accuracy: 1.0000 - categorical_crossentropy: 2.0454e-04 - val_loss: 0.4431 - val_categorical_accuracy: 0.9350 - val_categorical_crossentropy: 0.4431\n",
      "Epoch 54/100\n",
      "2000/2000 [==============================] - 0s 49us/sample - loss: 1.9548e-04 - categorical_accuracy: 1.0000 - categorical_crossentropy: 1.9548e-04 - val_loss: 0.4472 - val_categorical_accuracy: 0.9350 - val_categorical_crossentropy: 0.4472\n",
      "Epoch 55/100\n",
      "2000/2000 [==============================] - 0s 48us/sample - loss: 1.8791e-04 - categorical_accuracy: 1.0000 - categorical_crossentropy: 1.8791e-04 - val_loss: 0.4460 - val_categorical_accuracy: 0.9350 - val_categorical_crossentropy: 0.4460\n",
      "Epoch 56/100\n",
      "2000/2000 [==============================] - 0s 50us/sample - loss: 1.8075e-04 - categorical_accuracy: 1.0000 - categorical_crossentropy: 1.8075e-04 - val_loss: 0.4490 - val_categorical_accuracy: 0.9350 - val_categorical_crossentropy: 0.4490\n",
      "Epoch 57/100\n",
      "2000/2000 [==============================] - 0s 58us/sample - loss: 1.7231e-04 - categorical_accuracy: 1.0000 - categorical_crossentropy: 1.7231e-04 - val_loss: 0.4517 - val_categorical_accuracy: 0.9350 - val_categorical_crossentropy: 0.4517\n",
      "Epoch 58/100\n",
      "2000/2000 [==============================] - 0s 58us/sample - loss: 1.6510e-04 - categorical_accuracy: 1.0000 - categorical_crossentropy: 1.6510e-04 - val_loss: 0.4546 - val_categorical_accuracy: 0.9350 - val_categorical_crossentropy: 0.4546\n",
      "Epoch 59/100\n",
      "2000/2000 [==============================] - 0s 60us/sample - loss: 1.5863e-04 - categorical_accuracy: 1.0000 - categorical_crossentropy: 1.5863e-04 - val_loss: 0.4545 - val_categorical_accuracy: 0.9350 - val_categorical_crossentropy: 0.4545\n",
      "Epoch 60/100\n",
      "2000/2000 [==============================] - 0s 47us/sample - loss: 1.5233e-04 - categorical_accuracy: 1.0000 - categorical_crossentropy: 1.5233e-04 - val_loss: 0.4547 - val_categorical_accuracy: 0.9350 - val_categorical_crossentropy: 0.4547\n",
      "Epoch 61/100\n",
      "2000/2000 [==============================] - 0s 48us/sample - loss: 1.4673e-04 - categorical_accuracy: 1.0000 - categorical_crossentropy: 1.4673e-04 - val_loss: 0.4583 - val_categorical_accuracy: 0.9350 - val_categorical_crossentropy: 0.4583\n",
      "Epoch 62/100\n",
      "2000/2000 [==============================] - 0s 48us/sample - loss: 1.4117e-04 - categorical_accuracy: 1.0000 - categorical_crossentropy: 1.4117e-04 - val_loss: 0.4562 - val_categorical_accuracy: 0.9350 - val_categorical_crossentropy: 0.4562\n",
      "Epoch 63/100\n",
      "2000/2000 [==============================] - 0s 47us/sample - loss: 1.3577e-04 - categorical_accuracy: 1.0000 - categorical_crossentropy: 1.3577e-04 - val_loss: 0.4593 - val_categorical_accuracy: 0.9350 - val_categorical_crossentropy: 0.4593\n",
      "Epoch 64/100\n",
      "2000/2000 [==============================] - 0s 51us/sample - loss: 1.3082e-04 - categorical_accuracy: 1.0000 - categorical_crossentropy: 1.3082e-04 - val_loss: 0.4608 - val_categorical_accuracy: 0.9350 - val_categorical_crossentropy: 0.4608\n",
      "Epoch 65/100\n",
      "2000/2000 [==============================] - 0s 47us/sample - loss: 1.2715e-04 - categorical_accuracy: 1.0000 - categorical_crossentropy: 1.2715e-04 - val_loss: 0.4629 - val_categorical_accuracy: 0.9350 - val_categorical_crossentropy: 0.4629\n",
      "Epoch 66/100\n"
     ]
    },
    {
     "name": "stdout",
     "output_type": "stream",
     "text": [
      "2000/2000 [==============================] - 0s 47us/sample - loss: 1.2184e-04 - categorical_accuracy: 1.0000 - categorical_crossentropy: 1.2184e-04 - val_loss: 0.4628 - val_categorical_accuracy: 0.9350 - val_categorical_crossentropy: 0.4628\n",
      "Epoch 67/100\n",
      "2000/2000 [==============================] - 0s 48us/sample - loss: 1.1773e-04 - categorical_accuracy: 1.0000 - categorical_crossentropy: 1.1773e-04 - val_loss: 0.4675 - val_categorical_accuracy: 0.9350 - val_categorical_crossentropy: 0.4675\n",
      "Epoch 68/100\n",
      "2000/2000 [==============================] - 0s 47us/sample - loss: 1.1369e-04 - categorical_accuracy: 1.0000 - categorical_crossentropy: 1.1369e-04 - val_loss: 0.4661 - val_categorical_accuracy: 0.9350 - val_categorical_crossentropy: 0.4661\n",
      "Epoch 69/100\n",
      "2000/2000 [==============================] - 0s 49us/sample - loss: 1.1008e-04 - categorical_accuracy: 1.0000 - categorical_crossentropy: 1.1008e-04 - val_loss: 0.4699 - val_categorical_accuracy: 0.9350 - val_categorical_crossentropy: 0.4699\n",
      "Epoch 70/100\n",
      "2000/2000 [==============================] - 0s 48us/sample - loss: 1.0677e-04 - categorical_accuracy: 1.0000 - categorical_crossentropy: 1.0677e-04 - val_loss: 0.4669 - val_categorical_accuracy: 0.9350 - val_categorical_crossentropy: 0.4669\n",
      "Epoch 71/100\n",
      "2000/2000 [==============================] - 0s 48us/sample - loss: 1.0293e-04 - categorical_accuracy: 1.0000 - categorical_crossentropy: 1.0293e-04 - val_loss: 0.4693 - val_categorical_accuracy: 0.9350 - val_categorical_crossentropy: 0.4693\n",
      "Epoch 72/100\n",
      "2000/2000 [==============================] - 0s 47us/sample - loss: 9.9922e-05 - categorical_accuracy: 1.0000 - categorical_crossentropy: 9.9922e-05 - val_loss: 0.4752 - val_categorical_accuracy: 0.9350 - val_categorical_crossentropy: 0.4752\n",
      "Epoch 73/100\n",
      "2000/2000 [==============================] - 0s 51us/sample - loss: 9.6299e-05 - categorical_accuracy: 1.0000 - categorical_crossentropy: 9.6299e-05 - val_loss: 0.4703 - val_categorical_accuracy: 0.9350 - val_categorical_crossentropy: 0.4703\n",
      "Epoch 74/100\n",
      "2000/2000 [==============================] - 0s 57us/sample - loss: 9.3790e-05 - categorical_accuracy: 1.0000 - categorical_crossentropy: 9.3790e-05 - val_loss: 0.4744 - val_categorical_accuracy: 0.9350 - val_categorical_crossentropy: 0.4744\n",
      "Epoch 75/100\n",
      "2000/2000 [==============================] - 0s 58us/sample - loss: 9.0311e-05 - categorical_accuracy: 1.0000 - categorical_crossentropy: 9.0311e-05 - val_loss: 0.4752 - val_categorical_accuracy: 0.9350 - val_categorical_crossentropy: 0.4752\n",
      "Epoch 76/100\n",
      "2000/2000 [==============================] - 0s 59us/sample - loss: 8.7544e-05 - categorical_accuracy: 1.0000 - categorical_crossentropy: 8.7544e-05 - val_loss: 0.4762 - val_categorical_accuracy: 0.9350 - val_categorical_crossentropy: 0.4762\n",
      "Epoch 77/100\n",
      "2000/2000 [==============================] - 0s 48us/sample - loss: 8.4946e-05 - categorical_accuracy: 1.0000 - categorical_crossentropy: 8.4946e-05 - val_loss: 0.4790 - val_categorical_accuracy: 0.9350 - val_categorical_crossentropy: 0.4790\n",
      "Epoch 78/100\n",
      "2000/2000 [==============================] - 0s 48us/sample - loss: 8.2391e-05 - categorical_accuracy: 1.0000 - categorical_crossentropy: 8.2391e-05 - val_loss: 0.4780 - val_categorical_accuracy: 0.9350 - val_categorical_crossentropy: 0.4780\n",
      "Epoch 79/100\n",
      "2000/2000 [==============================] - 0s 46us/sample - loss: 7.9810e-05 - categorical_accuracy: 1.0000 - categorical_crossentropy: 7.9810e-05 - val_loss: 0.4801 - val_categorical_accuracy: 0.9350 - val_categorical_crossentropy: 0.4801\n",
      "Epoch 80/100\n",
      "2000/2000 [==============================] - 0s 46us/sample - loss: 7.7774e-05 - categorical_accuracy: 1.0000 - categorical_crossentropy: 7.7774e-05 - val_loss: 0.4806 - val_categorical_accuracy: 0.9350 - val_categorical_crossentropy: 0.4806\n",
      "Epoch 81/100\n",
      "2000/2000 [==============================] - 0s 47us/sample - loss: 7.5216e-05 - categorical_accuracy: 1.0000 - categorical_crossentropy: 7.5216e-05 - val_loss: 0.4821 - val_categorical_accuracy: 0.9350 - val_categorical_crossentropy: 0.4821\n",
      "Epoch 82/100\n",
      "2000/2000 [==============================] - 0s 47us/sample - loss: 7.3269e-05 - categorical_accuracy: 1.0000 - categorical_crossentropy: 7.3269e-05 - val_loss: 0.4820 - val_categorical_accuracy: 0.9350 - val_categorical_crossentropy: 0.4820\n",
      "Epoch 83/100\n",
      "2000/2000 [==============================] - 0s 48us/sample - loss: 7.1094e-05 - categorical_accuracy: 1.0000 - categorical_crossentropy: 7.1094e-05 - val_loss: 0.4847 - val_categorical_accuracy: 0.9350 - val_categorical_crossentropy: 0.4847\n",
      "Epoch 84/100\n",
      "2000/2000 [==============================] - 0s 47us/sample - loss: 6.9153e-05 - categorical_accuracy: 1.0000 - categorical_crossentropy: 6.9153e-05 - val_loss: 0.4877 - val_categorical_accuracy: 0.9350 - val_categorical_crossentropy: 0.4877\n",
      "Epoch 85/100\n",
      "2000/2000 [==============================] - 0s 46us/sample - loss: 6.7255e-05 - categorical_accuracy: 1.0000 - categorical_crossentropy: 6.7255e-05 - val_loss: 0.4867 - val_categorical_accuracy: 0.9350 - val_categorical_crossentropy: 0.4867\n",
      "Epoch 86/100\n",
      "2000/2000 [==============================] - 0s 47us/sample - loss: 6.5623e-05 - categorical_accuracy: 1.0000 - categorical_crossentropy: 6.5623e-05 - val_loss: 0.4861 - val_categorical_accuracy: 0.9350 - val_categorical_crossentropy: 0.4861\n",
      "Epoch 87/100\n",
      "2000/2000 [==============================] - 0s 47us/sample - loss: 6.3469e-05 - categorical_accuracy: 1.0000 - categorical_crossentropy: 6.3469e-05 - val_loss: 0.4910 - val_categorical_accuracy: 0.9350 - val_categorical_crossentropy: 0.4910\n",
      "Epoch 88/100\n",
      "2000/2000 [==============================] - 0s 47us/sample - loss: 6.1814e-05 - categorical_accuracy: 1.0000 - categorical_crossentropy: 6.1814e-05 - val_loss: 0.4910 - val_categorical_accuracy: 0.9350 - val_categorical_crossentropy: 0.4910\n",
      "Epoch 89/100\n",
      "2000/2000 [==============================] - 0s 46us/sample - loss: 6.0312e-05 - categorical_accuracy: 1.0000 - categorical_crossentropy: 6.0312e-05 - val_loss: 0.4908 - val_categorical_accuracy: 0.9350 - val_categorical_crossentropy: 0.4908\n",
      "Epoch 90/100\n",
      "2000/2000 [==============================] - 0s 46us/sample - loss: 5.8612e-05 - categorical_accuracy: 1.0000 - categorical_crossentropy: 5.8612e-05 - val_loss: 0.4924 - val_categorical_accuracy: 0.9350 - val_categorical_crossentropy: 0.4924\n",
      "Epoch 91/100\n",
      "2000/2000 [==============================] - 0s 47us/sample - loss: 5.6863e-05 - categorical_accuracy: 1.0000 - categorical_crossentropy: 5.6863e-05 - val_loss: 0.4915 - val_categorical_accuracy: 0.9350 - val_categorical_crossentropy: 0.4915\n",
      "Epoch 92/100\n",
      "2000/2000 [==============================] - 0s 47us/sample - loss: 5.5436e-05 - categorical_accuracy: 1.0000 - categorical_crossentropy: 5.5436e-05 - val_loss: 0.4934 - val_categorical_accuracy: 0.9350 - val_categorical_crossentropy: 0.4934\n",
      "Epoch 93/100\n",
      "2000/2000 [==============================] - 0s 48us/sample - loss: 5.4152e-05 - categorical_accuracy: 1.0000 - categorical_crossentropy: 5.4152e-05 - val_loss: 0.4951 - val_categorical_accuracy: 0.9350 - val_categorical_crossentropy: 0.4951\n",
      "Epoch 94/100\n",
      "2000/2000 [==============================] - 0s 49us/sample - loss: 5.2722e-05 - categorical_accuracy: 1.0000 - categorical_crossentropy: 5.2722e-05 - val_loss: 0.4941 - val_categorical_accuracy: 0.9350 - val_categorical_crossentropy: 0.4941\n",
      "Epoch 95/100\n",
      "2000/2000 [==============================] - 0s 48us/sample - loss: 5.1454e-05 - categorical_accuracy: 1.0000 - categorical_crossentropy: 5.1454e-05 - val_loss: 0.4984 - val_categorical_accuracy: 0.9350 - val_categorical_crossentropy: 0.4984\n",
      "Epoch 96/100\n",
      "2000/2000 [==============================] - 0s 47us/sample - loss: 5.0103e-05 - categorical_accuracy: 1.0000 - categorical_crossentropy: 5.0103e-05 - val_loss: 0.4968 - val_categorical_accuracy: 0.9350 - val_categorical_crossentropy: 0.4968\n",
      "Epoch 97/100\n",
      "2000/2000 [==============================] - 0s 47us/sample - loss: 4.8838e-05 - categorical_accuracy: 1.0000 - categorical_crossentropy: 4.8838e-05 - val_loss: 0.4973 - val_categorical_accuracy: 0.9350 - val_categorical_crossentropy: 0.4973\n",
      "Epoch 98/100\n"
     ]
    },
    {
     "name": "stdout",
     "output_type": "stream",
     "text": [
      "2000/2000 [==============================] - 0s 49us/sample - loss: 4.7742e-05 - categorical_accuracy: 1.0000 - categorical_crossentropy: 4.7742e-05 - val_loss: 0.5002 - val_categorical_accuracy: 0.9350 - val_categorical_crossentropy: 0.5002\n",
      "Epoch 99/100\n",
      "2000/2000 [==============================] - 0s 47us/sample - loss: 4.6512e-05 - categorical_accuracy: 1.0000 - categorical_crossentropy: 4.6512e-05 - val_loss: 0.5005 - val_categorical_accuracy: 0.9350 - val_categorical_crossentropy: 0.5005\n",
      "Epoch 100/100\n",
      "2000/2000 [==============================] - 0s 47us/sample - loss: 4.5541e-05 - categorical_accuracy: 1.0000 - categorical_crossentropy: 4.5541e-05 - val_loss: 0.5021 - val_categorical_accuracy: 0.9350 - val_categorical_crossentropy: 0.5021\n"
     ]
    }
   ],
   "source": [
    "# se entrena el modelo con tamaño del batch 100, usando el primer conjunto de validación para early stopping\n",
    "# para ello se utiliza la función model.fit(...)\n",
    "# NOTA: utilizar fit múltiples veces con diferentes datos continúa entrenando el modelo\n",
    "out = model.fit(x_train_sample, \n",
    "          y_train_sample_onehot, \n",
    "          batch_size=100,\n",
    "          epochs=100,\n",
    "          validation_data=(x_val_1, y_val_1_onehot))"
   ]
  },
  {
   "cell_type": "markdown",
   "metadata": {},
   "source": [
    "<div class=\"alert alert-block alert-info\" style=\"font-size:16px;\">\n",
    "<b> 4. Evaluar el modelo/hacer predicciones. </b>\n",
    "</div>"
   ]
  },
  {
   "cell_type": "code",
   "execution_count": 8,
   "metadata": {},
   "outputs": [
    {
     "data": {
      "image/png": "[encoded data removed]",
      "text/plain": [
       "<Figure size 1152x576 with 2 Axes>"
      ]
     },
     "metadata": {
      "needs_background": "light"
     },
     "output_type": "display_data"
    },
    {
     "data": {
      "image/png": "[encoded data removed]",
      "text/plain": [
       "<Figure size 1152x576 with 5 Axes>"
      ]
     },
     "metadata": {
      "needs_background": "light"
     },
     "output_type": "display_data"
    }
   ],
   "source": [
    "# mostrar la evaluación del modelo:\n",
    "# Graficar accuracy para training, test y validation sets\n",
    "fig, axes = plt.subplots(1,2,figsize=(16,8))\n",
    "axes[0].set_title(\"cross entropy\")\n",
    "axes[1].set_title(\"accuracy\")\n",
    "axes[0].plot(out.history['categorical_crossentropy'], label='training set')\n",
    "axes[0].plot(out.history['val_categorical_crossentropy'], label='validation set')\n",
    "axes[0].legend()\n",
    "axes[1].plot(out.history['categorical_accuracy'], label='training set')\n",
    "axes[1].plot(out.history['val_categorical_accuracy'], label='validation set')\n",
    "axes[1].legend()\n",
    "\n",
    "# podemos hacer predicciones en el test set:\n",
    "# para eso utilizamos la función model.predict(...)\n",
    "\n",
    "predicted = np.argmax(model.predict(x_test[0:5]), axis=1)\n",
    "\n",
    "# mostrar algunas imágenes para saber de qué se trata\n",
    "fig, axes = plt.subplots(5,1,figsize=(16,8))\n",
    "plt.subplots_adjust(wspace=0.5, hspace=0.5)\n",
    "axes[0].set_title(\"MNIST\")\n",
    "for i in range(5):\n",
    "    axes[i].set_title(\"prediccion: \" + str(predicted[i]))\n",
    "    axes[i].set_axis_off()\n",
    "    axes[i].imshow(x_test[i,:,:], interpolation='nearest', cmap='gray')\n"
   ]
  },
  {
   "cell_type": "code",
   "execution_count": null,
   "metadata": {},
   "outputs": [],
   "source": []
  }
 ],
 "metadata": {
  "kernelspec": {
   "display_name": "Python 3",
   "language": "python",
   "name": "python3"
  },
  "language_info": {
   "codemirror_mode": {
    "name": "ipython",
    "version": 3
   },
   "file_extension": ".py",
   "mimetype": "text/x-python",
   "name": "python",
   "nbconvert_exporter": "python",
   "pygments_lexer": "ipython3",
   "version": "3.6.7"
  }
 },
 "nbformat": 4,
 "nbformat_minor": 2
}
